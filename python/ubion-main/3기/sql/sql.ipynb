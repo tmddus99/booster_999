{
 "cells": [
  {
   "cell_type": "code",
   "execution_count": 4,
   "metadata": {},
   "outputs": [],
   "source": [
    "import pymysql\n",
    "import pandas as pd"
   ]
  },
  {
   "cell_type": "code",
   "execution_count": 5,
   "metadata": {},
   "outputs": [],
   "source": [
    "sample_db = pymysql.connect(\n",
    "    user = \"root\",\n",
    "    passwd = \"1234\",\n",
    "    host = \"localhost\",\n",
    "    db = \"ubion\",\n",
    "    charset = \"utf8\"\n",
    ")"
   ]
  },
  {
   "cell_type": "code",
   "execution_count": 6,
   "metadata": {},
   "outputs": [],
   "source": [
    "cursor = sample_db.cursor(pymysql.cursors.DictCursor)"
   ]
  },
  {
   "cell_type": "code",
   "execution_count": 7,
   "metadata": {},
   "outputs": [
    {
     "name": "stdout",
     "output_type": "stream",
     "text": [
      "[{'post_id': 'test_1', 'password': '1234'}, {'post_id': 'test10', 'password': 'test10'}, {'post_id': 'test3', 'password': '1234'}, {'post_id': 'test5', 'password': '1234'}, {'post_id': 'test6', 'password': '1234'}, {'post_id': 'test7', 'password': '0327'}, {'post_id': 'test8', 'password': '1234'}]\n"
     ]
    }
   ],
   "source": [
    "sql = \"SELECT * FROM base1\"\n",
    "\n",
    "cursor.execute(sql)\n",
    "result = cursor.fetchall()\n",
    "print(result)"
   ]
  },
  {
   "cell_type": "code",
   "execution_count": 8,
   "metadata": {},
   "outputs": [
    {
     "ename": "IntegrityError",
     "evalue": "(1062, \"Duplicate entry 'test5' for key 'base1.PRIMARY'\")",
     "output_type": "error",
     "traceback": [
      "\u001b[1;31m---------------------------------------------------------------------------\u001b[0m",
      "\u001b[1;31mIntegrityError\u001b[0m                            Traceback (most recent call last)",
      "\u001b[1;32mg:\\ubion\\금융 빅데이터3기\\실습\\sql\\sql.ipynb Cell 5'\u001b[0m in \u001b[0;36m<module>\u001b[1;34m\u001b[0m\n\u001b[0;32m      <a href='vscode-notebook-cell:/g%3A/ubion/%EA%B8%88%EC%9C%B5%20%EB%B9%85%EB%8D%B0%EC%9D%B4%ED%84%B03%EA%B8%B0/%EC%8B%A4%EC%8A%B5/sql/sql.ipynb#ch0000004?line=0'>1</a>\u001b[0m sql \u001b[39m=\u001b[39m \u001b[39m'''\u001b[39m\u001b[39mINSERT INTO base1 values (\u001b[39m\u001b[39m'\u001b[39m\u001b[39mtest5\u001b[39m\u001b[39m'\u001b[39m\u001b[39m, \u001b[39m\u001b[39m'\u001b[39m\u001b[39m0327\u001b[39m\u001b[39m'\u001b[39m\u001b[39m), (\u001b[39m\u001b[39m'\u001b[39m\u001b[39mtest6\u001b[39m\u001b[39m'\u001b[39m\u001b[39m, \u001b[39m\u001b[39m'\u001b[39m\u001b[39m1234\u001b[39m\u001b[39m'\u001b[39m\u001b[39m), (\u001b[39m\u001b[39m'\u001b[39m\u001b[39mtest7\u001b[39m\u001b[39m'\u001b[39m\u001b[39m, \u001b[39m\u001b[39m'\u001b[39m\u001b[39m0327\u001b[39m\u001b[39m'\u001b[39m\u001b[39m), (\u001b[39m\u001b[39m'\u001b[39m\u001b[39mtest8\u001b[39m\u001b[39m'\u001b[39m\u001b[39m, \u001b[39m\u001b[39m'\u001b[39m\u001b[39m1234\u001b[39m\u001b[39m'\u001b[39m\u001b[39m)\u001b[39m\u001b[39m'''\u001b[39m\n\u001b[1;32m----> <a href='vscode-notebook-cell:/g%3A/ubion/%EA%B8%88%EC%9C%B5%20%EB%B9%85%EB%8D%B0%EC%9D%B4%ED%84%B03%EA%B8%B0/%EC%8B%A4%EC%8A%B5/sql/sql.ipynb#ch0000004?line=2'>3</a>\u001b[0m cursor\u001b[39m.\u001b[39;49mexecute(sql)\n\u001b[0;32m      <a href='vscode-notebook-cell:/g%3A/ubion/%EA%B8%88%EC%9C%B5%20%EB%B9%85%EB%8D%B0%EC%9D%B4%ED%84%B03%EA%B8%B0/%EC%8B%A4%EC%8A%B5/sql/sql.ipynb#ch0000004?line=4'>5</a>\u001b[0m sample_db\u001b[39m.\u001b[39mcommit()\n",
      "File \u001b[1;32m~\\AppData\\Local\\Programs\\Python\\Python310\\lib\\site-packages\\pymysql\\cursors.py:148\u001b[0m, in \u001b[0;36mCursor.execute\u001b[1;34m(self, query, args)\u001b[0m\n\u001b[0;32m    <a href='file:///~/AppData/Local/Programs/Python/Python310/lib/site-packages/pymysql/cursors.py?line=143'>144</a>\u001b[0m     \u001b[39mpass\u001b[39;00m\n\u001b[0;32m    <a href='file:///~/AppData/Local/Programs/Python/Python310/lib/site-packages/pymysql/cursors.py?line=145'>146</a>\u001b[0m query \u001b[39m=\u001b[39m \u001b[39mself\u001b[39m\u001b[39m.\u001b[39mmogrify(query, args)\n\u001b[1;32m--> <a href='file:///~/AppData/Local/Programs/Python/Python310/lib/site-packages/pymysql/cursors.py?line=147'>148</a>\u001b[0m result \u001b[39m=\u001b[39m \u001b[39mself\u001b[39;49m\u001b[39m.\u001b[39;49m_query(query)\n\u001b[0;32m    <a href='file:///~/AppData/Local/Programs/Python/Python310/lib/site-packages/pymysql/cursors.py?line=148'>149</a>\u001b[0m \u001b[39mself\u001b[39m\u001b[39m.\u001b[39m_executed \u001b[39m=\u001b[39m query\n\u001b[0;32m    <a href='file:///~/AppData/Local/Programs/Python/Python310/lib/site-packages/pymysql/cursors.py?line=149'>150</a>\u001b[0m \u001b[39mreturn\u001b[39;00m result\n",
      "File \u001b[1;32m~\\AppData\\Local\\Programs\\Python\\Python310\\lib\\site-packages\\pymysql\\cursors.py:310\u001b[0m, in \u001b[0;36mCursor._query\u001b[1;34m(self, q)\u001b[0m\n\u001b[0;32m    <a href='file:///~/AppData/Local/Programs/Python/Python310/lib/site-packages/pymysql/cursors.py?line=307'>308</a>\u001b[0m \u001b[39mself\u001b[39m\u001b[39m.\u001b[39m_last_executed \u001b[39m=\u001b[39m q\n\u001b[0;32m    <a href='file:///~/AppData/Local/Programs/Python/Python310/lib/site-packages/pymysql/cursors.py?line=308'>309</a>\u001b[0m \u001b[39mself\u001b[39m\u001b[39m.\u001b[39m_clear_result()\n\u001b[1;32m--> <a href='file:///~/AppData/Local/Programs/Python/Python310/lib/site-packages/pymysql/cursors.py?line=309'>310</a>\u001b[0m conn\u001b[39m.\u001b[39;49mquery(q)\n\u001b[0;32m    <a href='file:///~/AppData/Local/Programs/Python/Python310/lib/site-packages/pymysql/cursors.py?line=310'>311</a>\u001b[0m \u001b[39mself\u001b[39m\u001b[39m.\u001b[39m_do_get_result()\n\u001b[0;32m    <a href='file:///~/AppData/Local/Programs/Python/Python310/lib/site-packages/pymysql/cursors.py?line=311'>312</a>\u001b[0m \u001b[39mreturn\u001b[39;00m \u001b[39mself\u001b[39m\u001b[39m.\u001b[39mrowcount\n",
      "File \u001b[1;32m~\\AppData\\Local\\Programs\\Python\\Python310\\lib\\site-packages\\pymysql\\connections.py:548\u001b[0m, in \u001b[0;36mConnection.query\u001b[1;34m(self, sql, unbuffered)\u001b[0m\n\u001b[0;32m    <a href='file:///~/AppData/Local/Programs/Python/Python310/lib/site-packages/pymysql/connections.py?line=545'>546</a>\u001b[0m     sql \u001b[39m=\u001b[39m sql\u001b[39m.\u001b[39mencode(\u001b[39mself\u001b[39m\u001b[39m.\u001b[39mencoding, \u001b[39m\"\u001b[39m\u001b[39msurrogateescape\u001b[39m\u001b[39m\"\u001b[39m)\n\u001b[0;32m    <a href='file:///~/AppData/Local/Programs/Python/Python310/lib/site-packages/pymysql/connections.py?line=546'>547</a>\u001b[0m \u001b[39mself\u001b[39m\u001b[39m.\u001b[39m_execute_command(COMMAND\u001b[39m.\u001b[39mCOM_QUERY, sql)\n\u001b[1;32m--> <a href='file:///~/AppData/Local/Programs/Python/Python310/lib/site-packages/pymysql/connections.py?line=547'>548</a>\u001b[0m \u001b[39mself\u001b[39m\u001b[39m.\u001b[39m_affected_rows \u001b[39m=\u001b[39m \u001b[39mself\u001b[39;49m\u001b[39m.\u001b[39;49m_read_query_result(unbuffered\u001b[39m=\u001b[39;49munbuffered)\n\u001b[0;32m    <a href='file:///~/AppData/Local/Programs/Python/Python310/lib/site-packages/pymysql/connections.py?line=548'>549</a>\u001b[0m \u001b[39mreturn\u001b[39;00m \u001b[39mself\u001b[39m\u001b[39m.\u001b[39m_affected_rows\n",
      "File \u001b[1;32m~\\AppData\\Local\\Programs\\Python\\Python310\\lib\\site-packages\\pymysql\\connections.py:775\u001b[0m, in \u001b[0;36mConnection._read_query_result\u001b[1;34m(self, unbuffered)\u001b[0m\n\u001b[0;32m    <a href='file:///~/AppData/Local/Programs/Python/Python310/lib/site-packages/pymysql/connections.py?line=772'>773</a>\u001b[0m \u001b[39melse\u001b[39;00m:\n\u001b[0;32m    <a href='file:///~/AppData/Local/Programs/Python/Python310/lib/site-packages/pymysql/connections.py?line=773'>774</a>\u001b[0m     result \u001b[39m=\u001b[39m MySQLResult(\u001b[39mself\u001b[39m)\n\u001b[1;32m--> <a href='file:///~/AppData/Local/Programs/Python/Python310/lib/site-packages/pymysql/connections.py?line=774'>775</a>\u001b[0m     result\u001b[39m.\u001b[39;49mread()\n\u001b[0;32m    <a href='file:///~/AppData/Local/Programs/Python/Python310/lib/site-packages/pymysql/connections.py?line=775'>776</a>\u001b[0m \u001b[39mself\u001b[39m\u001b[39m.\u001b[39m_result \u001b[39m=\u001b[39m result\n\u001b[0;32m    <a href='file:///~/AppData/Local/Programs/Python/Python310/lib/site-packages/pymysql/connections.py?line=776'>777</a>\u001b[0m \u001b[39mif\u001b[39;00m result\u001b[39m.\u001b[39mserver_status \u001b[39mis\u001b[39;00m \u001b[39mnot\u001b[39;00m \u001b[39mNone\u001b[39;00m:\n",
      "File \u001b[1;32m~\\AppData\\Local\\Programs\\Python\\Python310\\lib\\site-packages\\pymysql\\connections.py:1156\u001b[0m, in \u001b[0;36mMySQLResult.read\u001b[1;34m(self)\u001b[0m\n\u001b[0;32m   <a href='file:///~/AppData/Local/Programs/Python/Python310/lib/site-packages/pymysql/connections.py?line=1153'>1154</a>\u001b[0m \u001b[39mdef\u001b[39;00m \u001b[39mread\u001b[39m(\u001b[39mself\u001b[39m):\n\u001b[0;32m   <a href='file:///~/AppData/Local/Programs/Python/Python310/lib/site-packages/pymysql/connections.py?line=1154'>1155</a>\u001b[0m     \u001b[39mtry\u001b[39;00m:\n\u001b[1;32m-> <a href='file:///~/AppData/Local/Programs/Python/Python310/lib/site-packages/pymysql/connections.py?line=1155'>1156</a>\u001b[0m         first_packet \u001b[39m=\u001b[39m \u001b[39mself\u001b[39;49m\u001b[39m.\u001b[39;49mconnection\u001b[39m.\u001b[39;49m_read_packet()\n\u001b[0;32m   <a href='file:///~/AppData/Local/Programs/Python/Python310/lib/site-packages/pymysql/connections.py?line=1157'>1158</a>\u001b[0m         \u001b[39mif\u001b[39;00m first_packet\u001b[39m.\u001b[39mis_ok_packet():\n\u001b[0;32m   <a href='file:///~/AppData/Local/Programs/Python/Python310/lib/site-packages/pymysql/connections.py?line=1158'>1159</a>\u001b[0m             \u001b[39mself\u001b[39m\u001b[39m.\u001b[39m_read_ok_packet(first_packet)\n",
      "File \u001b[1;32m~\\AppData\\Local\\Programs\\Python\\Python310\\lib\\site-packages\\pymysql\\connections.py:725\u001b[0m, in \u001b[0;36mConnection._read_packet\u001b[1;34m(self, packet_type)\u001b[0m\n\u001b[0;32m    <a href='file:///~/AppData/Local/Programs/Python/Python310/lib/site-packages/pymysql/connections.py?line=722'>723</a>\u001b[0m     \u001b[39mif\u001b[39;00m \u001b[39mself\u001b[39m\u001b[39m.\u001b[39m_result \u001b[39mis\u001b[39;00m \u001b[39mnot\u001b[39;00m \u001b[39mNone\u001b[39;00m \u001b[39mand\u001b[39;00m \u001b[39mself\u001b[39m\u001b[39m.\u001b[39m_result\u001b[39m.\u001b[39munbuffered_active \u001b[39mis\u001b[39;00m \u001b[39mTrue\u001b[39;00m:\n\u001b[0;32m    <a href='file:///~/AppData/Local/Programs/Python/Python310/lib/site-packages/pymysql/connections.py?line=723'>724</a>\u001b[0m         \u001b[39mself\u001b[39m\u001b[39m.\u001b[39m_result\u001b[39m.\u001b[39munbuffered_active \u001b[39m=\u001b[39m \u001b[39mFalse\u001b[39;00m\n\u001b[1;32m--> <a href='file:///~/AppData/Local/Programs/Python/Python310/lib/site-packages/pymysql/connections.py?line=724'>725</a>\u001b[0m     packet\u001b[39m.\u001b[39;49mraise_for_error()\n\u001b[0;32m    <a href='file:///~/AppData/Local/Programs/Python/Python310/lib/site-packages/pymysql/connections.py?line=725'>726</a>\u001b[0m \u001b[39mreturn\u001b[39;00m packet\n",
      "File \u001b[1;32m~\\AppData\\Local\\Programs\\Python\\Python310\\lib\\site-packages\\pymysql\\protocol.py:221\u001b[0m, in \u001b[0;36mMysqlPacket.raise_for_error\u001b[1;34m(self)\u001b[0m\n\u001b[0;32m    <a href='file:///~/AppData/Local/Programs/Python/Python310/lib/site-packages/pymysql/protocol.py?line=218'>219</a>\u001b[0m \u001b[39mif\u001b[39;00m DEBUG:\n\u001b[0;32m    <a href='file:///~/AppData/Local/Programs/Python/Python310/lib/site-packages/pymysql/protocol.py?line=219'>220</a>\u001b[0m     \u001b[39mprint\u001b[39m(\u001b[39m\"\u001b[39m\u001b[39merrno =\u001b[39m\u001b[39m\"\u001b[39m, errno)\n\u001b[1;32m--> <a href='file:///~/AppData/Local/Programs/Python/Python310/lib/site-packages/pymysql/protocol.py?line=220'>221</a>\u001b[0m err\u001b[39m.\u001b[39;49mraise_mysql_exception(\u001b[39mself\u001b[39;49m\u001b[39m.\u001b[39;49m_data)\n",
      "File \u001b[1;32m~\\AppData\\Local\\Programs\\Python\\Python310\\lib\\site-packages\\pymysql\\err.py:143\u001b[0m, in \u001b[0;36mraise_mysql_exception\u001b[1;34m(data)\u001b[0m\n\u001b[0;32m    <a href='file:///~/AppData/Local/Programs/Python/Python310/lib/site-packages/pymysql/err.py?line=140'>141</a>\u001b[0m \u001b[39mif\u001b[39;00m errorclass \u001b[39mis\u001b[39;00m \u001b[39mNone\u001b[39;00m:\n\u001b[0;32m    <a href='file:///~/AppData/Local/Programs/Python/Python310/lib/site-packages/pymysql/err.py?line=141'>142</a>\u001b[0m     errorclass \u001b[39m=\u001b[39m InternalError \u001b[39mif\u001b[39;00m errno \u001b[39m<\u001b[39m \u001b[39m1000\u001b[39m \u001b[39melse\u001b[39;00m OperationalError\n\u001b[1;32m--> <a href='file:///~/AppData/Local/Programs/Python/Python310/lib/site-packages/pymysql/err.py?line=142'>143</a>\u001b[0m \u001b[39mraise\u001b[39;00m errorclass(errno, errval)\n",
      "\u001b[1;31mIntegrityError\u001b[0m: (1062, \"Duplicate entry 'test5' for key 'base1.PRIMARY'\")"
     ]
    }
   ],
   "source": [
    "sql = '''INSERT INTO base1 values ('test5', '0327'), ('test6', '1234'), ('test7', '0327'), ('test8', '1234')'''\n",
    "\n",
    "cursor.execute(sql)\n",
    "\n",
    "sample_db.commit()"
   ]
  },
  {
   "cell_type": "code",
   "execution_count": null,
   "metadata": {},
   "outputs": [
    {
     "data": {
      "text/plain": [
       "1"
      ]
     },
     "execution_count": 24,
     "metadata": {},
     "output_type": "execute_result"
    }
   ],
   "source": [
    "update_sql  = \"UPDATE base1 SET post_id = 'test1' where post_id = 'test'\"\n",
    "\n",
    "cursor.execute(update_sql)"
   ]
  },
  {
   "cell_type": "code",
   "execution_count": null,
   "metadata": {},
   "outputs": [
    {
     "name": "stdout",
     "output_type": "stream",
     "text": [
      "  post_id password\n",
      "0  test_1     1234\n",
      "1  test10   test10\n",
      "2   test3     1234\n",
      "3   test5     1234\n",
      "4   test6     1234\n",
      "5   test7     0327\n",
      "6   test8     1234\n"
     ]
    }
   ],
   "source": [
    "select_sql= \"SELECT * FROM base1 ORDER BY post_id\"\n",
    "\n",
    "cursor.execute(select_sql)\n",
    "result = cursor.fetchall()\n",
    "pd_result = pd.DataFrame(result)\n",
    "print(pd_result)"
   ]
  },
  {
   "cell_type": "code",
   "execution_count": null,
   "metadata": {},
   "outputs": [],
   "source": [
    "data = [[\"test11\", \"1234\"], [\"test12\", \"0987\"]]\n",
    "sql = '''INSERT INTO base1(post_id, password) VALUES (%s, %s)'''\n",
    "cursor.executemany(sql, data)\n",
    "sample_db.commit()"
   ]
  },
  {
   "cell_type": "code",
   "execution_count": 9,
   "metadata": {},
   "outputs": [
    {
     "name": "stdout",
     "output_type": "stream",
     "text": [
      "[{'post_id': 'test_1', 'password': '1234'}, {'post_id': 'test10', 'password': 'test10'}, {'post_id': 'test3', 'password': '1234'}, {'post_id': 'test5', 'password': '1234'}, {'post_id': 'test6', 'password': '1234'}, {'post_id': 'test7', 'password': '0327'}, {'post_id': 'test8', 'password': '1234'}]\n"
     ]
    }
   ],
   "source": [
    "select_sql= \"SELECT * FROM base1\"\n",
    "\n",
    "cursor.execute(select_sql)\n",
    "result = cursor.fetchall()\n",
    "print(result)"
   ]
  },
  {
   "cell_type": "code",
   "execution_count": 10,
   "metadata": {},
   "outputs": [
    {
     "name": "stdout",
     "output_type": "stream",
     "text": [
      "[{'post_id': 'test_1', 'password': '1234'}, {'post_id': 'test10', 'password': 'test10'}, {'post_id': 'test3', 'password': '1234'}, {'post_id': 'test5', 'password': '1234'}, {'post_id': 'test6', 'password': '1234'}, {'post_id': 'test7', 'password': '0327'}, {'post_id': 'test8', 'password': '1234'}]\n"
     ]
    }
   ],
   "source": [
    "select_sql_2 = \"SELECT * FROM base2\"\n",
    "cursor.execute(select_sql_2)\n",
    "\n",
    "print(result)"
   ]
  },
  {
   "cell_type": "code",
   "execution_count": null,
   "metadata": {},
   "outputs": [],
   "source": []
  }
 ],
 "metadata": {
  "interpreter": {
   "hash": "c22e33c9a27a2bb1a040a4ca92603677d3f3eab3ec561d889cf82069a29b9323"
  },
  "kernelspec": {
   "display_name": "Python 3.10.2 64-bit",
   "language": "python",
   "name": "python3"
  },
  "language_info": {
   "codemirror_mode": {
    "name": "ipython",
    "version": 3
   },
   "file_extension": ".py",
   "mimetype": "text/x-python",
   "name": "python",
   "nbconvert_exporter": "python",
   "pygments_lexer": "ipython3",
   "version": "3.10.2"
  },
  "orig_nbformat": 4
 },
 "nbformat": 4,
 "nbformat_minor": 2
}
