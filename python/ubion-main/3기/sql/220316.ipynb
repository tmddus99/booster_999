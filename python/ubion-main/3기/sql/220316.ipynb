{
 "cells": [
  {
   "cell_type": "code",
   "execution_count": 4,
   "metadata": {},
   "outputs": [
    {
     "ename": "ImportError",
     "evalue": "cannot import name 'mod_sql' from 'modules' (/Users/seungyeonkang/opt/anaconda3/lib/python3.9/site-packages/modules.py)",
     "output_type": "error",
     "traceback": [
      "\u001b[0;31m---------------------------------------------------------------------------\u001b[0m",
      "\u001b[0;31mImportError\u001b[0m                               Traceback (most recent call last)",
      "\u001b[0;32m/var/folders/6b/73dpm1vs05v8n2ng962nmn2h0000gn/T/ipykernel_71419/2507974543.py\u001b[0m in \u001b[0;36m<module>\u001b[0;34m\u001b[0m\n\u001b[0;32m----> 1\u001b[0;31m \u001b[0;32mfrom\u001b[0m \u001b[0mmodules\u001b[0m \u001b[0;32mimport\u001b[0m \u001b[0mmod_sql\u001b[0m\u001b[0;34m\u001b[0m\u001b[0;34m\u001b[0m\u001b[0m\n\u001b[0m\u001b[1;32m      2\u001b[0m \u001b[0;32mimport\u001b[0m \u001b[0mpandas\u001b[0m \u001b[0;32mas\u001b[0m \u001b[0mpd\u001b[0m\u001b[0;34m\u001b[0m\u001b[0;34m\u001b[0m\u001b[0m\n",
      "\u001b[0;31mImportError\u001b[0m: cannot import name 'mod_sql' from 'modules' (/Users/seungyeonkang/opt/anaconda3/lib/python3.9/site-packages/modules.py)"
     ]
    }
   ],
   "source": [
    "from modules import mod_sql\n",
    "import pandas as pd"
   ]
  },
  {
   "cell_type": "code",
   "execution_count": null,
   "metadata": {},
   "outputs": [],
   "source": [
    "_dt = "
   ]
  },
  {
   "cell_type": "code",
   "execution_count": null,
   "metadata": {},
   "outputs": [],
   "source": []
  },
  {
   "cell_type": "code",
   "execution_count": null,
   "metadata": {},
   "outputs": [],
   "source": []
  },
  {
   "cell_type": "code",
   "execution_count": null,
   "metadata": {},
   "outputs": [
    {
     "ename": "NameError",
     "evalue": "name '_dt' is not defined",
     "output_type": "error",
     "traceback": [
      "\u001b[0;31m---------------------------------------------------------------------------\u001b[0m",
      "\u001b[0;31mNameError\u001b[0m                                 Traceback (most recent call last)",
      "\u001b[0;32m/var/folders/6b/73dpm1vs05v8n2ng962nmn2h0000gn/T/ipykernel_31000/3288274058.py\u001b[0m in \u001b[0;36m<module>\u001b[0;34m\u001b[0m\n\u001b[1;32m      2\u001b[0m             \u001b[0mSELECT\u001b[0m \u001b[0mMIN\u001b[0m\u001b[0;34m(\u001b[0m\u001b[0;34m'Units sold'\u001b[0m\u001b[0;34m)\u001b[0m \u001b[0mFROM\u001b[0m \u001b[0msales\u001b[0m\u001b[0;34m\u001b[0m\u001b[0;34m\u001b[0m\u001b[0m\n\u001b[1;32m      3\u001b[0m         \"\"\"\n\u001b[0;32m----> 4\u001b[0;31m \u001b[0mresult_2\u001b[0m \u001b[0;34m=\u001b[0m \u001b[0m_dt\u001b[0m\u001b[0;34m.\u001b[0m\u001b[0mexecuteAll\u001b[0m\u001b[0;34m(\u001b[0m\u001b[0msql_2\u001b[0m\u001b[0;34m)\u001b[0m\u001b[0;34m\u001b[0m\u001b[0;34m\u001b[0m\u001b[0m\n\u001b[0m\u001b[1;32m      5\u001b[0m \u001b[0mdf_2\u001b[0m \u001b[0;34m=\u001b[0m \u001b[0mpd\u001b[0m\u001b[0;34m.\u001b[0m\u001b[0mDataFrame\u001b[0m\u001b[0;34m(\u001b[0m\u001b[0mresult_2\u001b[0m\u001b[0;34m)\u001b[0m\u001b[0;34m\u001b[0m\u001b[0;34m\u001b[0m\u001b[0m\n\u001b[1;32m      6\u001b[0m \u001b[0mdf_2\u001b[0m\u001b[0;34m\u001b[0m\u001b[0;34m\u001b[0m\u001b[0m\n",
      "\u001b[0;31mNameError\u001b[0m: name '_dt' is not defined"
     ]
    }
   ],
   "source": [
    "sql_2 = \"\"\"\n",
    "            SELECT MIN('Units sold') FROM sales\n",
    "        \"\"\"\n",
    "result_2 = _dt.executeAll(sql_2)\n",
    "df_2 = pd.DataFrame(result_2)\n",
    "df_2"
   ]
  },
  {
   "cell_type": "code",
   "execution_count": null,
   "metadata": {},
   "outputs": [],
   "source": [
    "sql_2 = \"\"\"\n",
    "            SELECT MAX('Units sold') FROM sales\n",
    "        \"\"\"\n",
    "result_2 = _dt.executeAll(sql_2)\n",
    "df_2 = pd.DataFrame(result_2)\n",
    "df_2"
   ]
  },
  {
   "cell_type": "code",
   "execution_count": null,
   "metadata": {},
   "outputs": [],
   "source": [
    "sql_8 = \"\"\"\n",
    "            \n",
    "        \"\"\""
   ]
  },
  {
   "cell_type": "code",
   "execution_count": null,
   "metadata": {},
   "outputs": [],
   "source": [
    "sql_9 = \"\"\"\n",
    "            SELECT\n",
    "            ENAME,\n",
    "                \n",
    "        \"\"\""
   ]
  },
  {
   "cell_type": "code",
   "execution_count": null,
   "metadata": {},
   "outputs": [],
   "source": []
  },
  {
   "cell_type": "code",
   "execution_count": null,
   "metadata": {},
   "outputs": [
    {
     "ename": "NameError",
     "evalue": "name '_dt' is not defined",
     "output_type": "error",
     "traceback": [
      "\u001b[0;31m---------------------------------------------------------------------------\u001b[0m",
      "\u001b[0;31mNameError\u001b[0m                                 Traceback (most recent call last)",
      "\u001b[0;32m/var/folders/6b/73dpm1vs05v8n2ng962nmn2h0000gn/T/ipykernel_31000/1766786826.py\u001b[0m in \u001b[0;36m<module>\u001b[0;34m\u001b[0m\n\u001b[1;32m      4\u001b[0m             \u001b[0mFROM\u001b[0m \u001b[0memp\u001b[0m\u001b[0;34m\u001b[0m\u001b[0;34m\u001b[0m\u001b[0m\n\u001b[1;32m      5\u001b[0m         \"\"\"\n\u001b[0;32m----> 6\u001b[0;31m \u001b[0mresult_15\u001b[0m \u001b[0;34m=\u001b[0m \u001b[0m_dt\u001b[0m\u001b[0;34m.\u001b[0m\u001b[0mexecuteAll\u001b[0m\u001b[0;34m(\u001b[0m\u001b[0msql_15\u001b[0m\u001b[0;34m)\u001b[0m\u001b[0;34m\u001b[0m\u001b[0;34m\u001b[0m\u001b[0m\n\u001b[0m\u001b[1;32m      7\u001b[0m \u001b[0mdf_15\u001b[0m \u001b[0;34m=\u001b[0m \u001b[0mpd\u001b[0m\u001b[0;34m.\u001b[0m\u001b[0mDataFrame\u001b[0m\u001b[0;34m(\u001b[0m\u001b[0mresult_15\u001b[0m\u001b[0;34m)\u001b[0m\u001b[0;34m\u001b[0m\u001b[0;34m\u001b[0m\u001b[0m\n\u001b[1;32m      8\u001b[0m \u001b[0mdf_15\u001b[0m\u001b[0;34m\u001b[0m\u001b[0;34m\u001b[0m\u001b[0m\n",
      "\u001b[0;31mNameError\u001b[0m: name '_dt' is not defined"
     ]
    }
   ],
   "source": [
    "sql_15 = \"\"\"\n",
    "            SELECT\n",
    "            CONCAT(ENAME, '(', JOB, ')') AS ENAME\n",
    "            FROM emp\n",
    "        \"\"\"\n",
    "result_15 = _dt.executeAll(sql_15)\n",
    "df_15 = pd.DataFrame(result_15)\n",
    "df_15"
   ]
  },
  {
   "cell_type": "code",
   "execution_count": null,
   "metadata": {},
   "outputs": [],
   "source": [
    "sql_16 = \"\"\"\n",
    "            SELECT ENAME,\n",
    "            CASE\n",
    "                WHEN JOB = \"ANALYST\" THEN '분석가'\n",
    "                WHEN JOB = \"CLERK\" THEN '점원'\n",
    "                WHEN JOB = \"MANAGER\" THEN '관리자'\n",
    "                WHEN JOB = \"PRESIDENT\" THEN '사장'\n",
    "                ELSE '판매사원'\n",
    "                END AS JOB\n",
    "            FROM emp\n",
    "        \"\"\"\n",
    "result_16 = _dt.executeAll(sql_16)\n",
    "df_16 = pd.DataFrame(result_16)\n",
    "df_16"
   ]
  },
  {
   "cell_type": "markdown",
   "metadata": {},
   "source": [
    "1. emp table과 dept table을 left join 조건 dept가 같은 경우\n",
    "2. 출력 컬럼은 ENAME, JOB, SAL, DEPTNO, LOC\n",
    "3. ENAME, LOC은 그대로 출력\n",
    "4. JOB은 각각 한글명으로 변경\n",
    "5. SAL은 2450을 기준으로 2450 이상이면 HIGH 미만이면 LOW\n",
    "6. DEPTNO은 DEPTNO의 값과 dept table의 DNAME 값을 더해서 표시(DEPTNO-DNAME형식)\n",
    "7. 모든 컬럼의 이름은 한글로 변경"
   ]
  },
  {
   "cell_type": "code",
   "execution_count": null,
   "metadata": {},
   "outputs": [
    {
     "ename": "NameError",
     "evalue": "name '_dt' is not defined",
     "output_type": "error",
     "traceback": [
      "\u001b[0;31m---------------------------------------------------------------------------\u001b[0m",
      "\u001b[0;31mNameError\u001b[0m                                 Traceback (most recent call last)",
      "\u001b[0;32m/var/folders/6b/73dpm1vs05v8n2ng962nmn2h0000gn/T/ipykernel_71419/802384247.py\u001b[0m in \u001b[0;36m<module>\u001b[0;34m\u001b[0m\n\u001b[1;32m     15\u001b[0m             \u001b[0mon\u001b[0m \u001b[0memp\u001b[0m\u001b[0;34m.\u001b[0m\u001b[0mDEPTNO\u001b[0m \u001b[0;34m=\u001b[0m \u001b[0mdept\u001b[0m\u001b[0;34m.\u001b[0m\u001b[0mDEPTNO\u001b[0m\u001b[0;34m\u001b[0m\u001b[0;34m\u001b[0m\u001b[0m\n\u001b[1;32m     16\u001b[0m         \"\"\"\n\u001b[0;32m---> 17\u001b[0;31m \u001b[0mresult_17\u001b[0m \u001b[0;34m=\u001b[0m \u001b[0m_dt\u001b[0m\u001b[0;34m.\u001b[0m\u001b[0mexecuteAll\u001b[0m\u001b[0;34m(\u001b[0m\u001b[0msql_17\u001b[0m\u001b[0;34m)\u001b[0m\u001b[0;34m\u001b[0m\u001b[0;34m\u001b[0m\u001b[0m\n\u001b[0m\u001b[1;32m     18\u001b[0m \u001b[0mpd\u001b[0m\u001b[0;34m.\u001b[0m\u001b[0mDataFrame\u001b[0m\u001b[0;34m(\u001b[0m\u001b[0mresult_17\u001b[0m\u001b[0;34m)\u001b[0m\u001b[0;34m\u001b[0m\u001b[0;34m\u001b[0m\u001b[0m\n",
      "\u001b[0;31mNameError\u001b[0m: name '_dt' is not defined"
     ]
    }
   ],
   "source": [
    "sql_17 = \"\"\"\n",
    "            SELECT\n",
    "            emp.ENAME as \"사원명\",\n",
    "            CASE\n",
    "                WHEN emp.JOB = \"ANALYST\" THEN '분석가'\n",
    "                WHEN emp.JOB = \"CLERK\" THEN '점원'\n",
    "                WHEN emp.JOB = \"MANAGER\" THEN '관리자'\n",
    "                WHEN emp.JOB = \"PRESIDENT\" THEN '사장'\n",
    "                ELSE '판매사원'\n",
    "            END AS \"직급\",\n",
    "            IF ( SAL >= 2450, \"HIGH\", \"LOW\") AS 월급,\n",
    "            CONTACT(emp.DEPTNO, \"-\", dept.DNAME) AS \"부서번호-부서명\",\n",
    "            dept.LOC AS \"위치\"\n",
    "            FROM empp LEFT JOIN dept\n",
    "            on emp.DEPTNO = dept.DEPTNO\n",
    "            ORDER BY '사원명' ASC\n",
    "        \"\"\"\n",
    "result_17 = _dt.executeAll(sql_17)\n",
    "pd.DataFrame(result_17)\n"
   ]
  },
  {
   "cell_type": "code",
   "execution_count": 5,
   "metadata": {},
   "outputs": [],
   "source": [
    "sql_18 = \"\"\"\n",
    "            SELECT * FROM emp\n",
    "            WHERE DEPTNO IN 10\n",
    "         \"\"\"\n",
    "result_18 = _dt.executeAll(sql_18)\n",
    "pd.DataFrame(result_18)"
   ]
  },
  {
   "cell_type": "code",
   "execution_count": null,
   "metadata": {},
   "outputs": [],
   "source": [
    "sql_19 = \"\"\"\n",
    "            \n",
    "            SELECT\n",
    "            (\n",
    "                SELECT COUNT(*) FROM emp\n",
    "            ) AS 'cnt(emp)', \n",
    "            (\n",
    "                SELECT COUNT(*) FROM dept\n",
    "            ) AS 'cnt(dept)'\n",
    "         \"\"\"\n",
    "result_19 = _dt.executeAll(sql_19)\n",
    "pd.DataFrame(result_19)"
   ]
  },
  {
   "cell_type": "code",
   "execution_count": null,
   "metadata": {},
   "outputs": [],
   "source": [
    "sql_20 = \"\"\"\n",
    "            SELECT\n",
    "            ENAME\n",
    "            FROM emp\n",
    "            LEFT JOIN dept\n",
    "            WHERE detp.DNAME = \"sales\"\n",
    "        \"\"\"\n",
    "result_20 = _dt.executeAll(sql_20)\n",
    "pd.DataFrame(result_20)"
   ]
  },
  {
   "cell_type": "code",
   "execution_count": null,
   "metadata": {},
   "outputs": [],
   "source": [
    "sql_21 = \"\"\"\n",
    "            SELECT\n",
    "            ENAME\n",
    "            FROM emp\n",
    "            WHERE DEPTNO = \n",
    "            (\n",
    "                SELECT DEPTNO FROM dept\n",
    "                WHERE DNAME = 'sales'\n",
    "            )\n",
    "        \"\"\"\n",
    "result_21 = _dt.executeAll(sql_21)\n",
    "pd.DataFrame(result_21)"
   ]
  },
  {
   "cell_type": "markdown",
   "metadata": {},
   "source": [
    "부서의 위치가 'NEW YORK', 'DALLAS\"가 아닌 소속 사원들의 리스트를 출력하라"
   ]
  },
  {
   "cell_type": "code",
   "execution_count": null,
   "metadata": {},
   "outputs": [],
   "source": [
    "sql_22 = \"\"\"\n",
    "            SELECT\n",
    "            ENAME\n",
    "            FROM emp\n",
    "            WHERE \n",
    "            DEPTNO = \n",
    "            (\n",
    "                SELECT \n",
    "                DEPTNO\n",
    "                FROM dept \n",
    "                WHERE \n",
    "                LOC NOT IN ('NEW YORK', 'DALLAS')\n",
    "            )\n",
    "        \"\"\"\n",
    "result_22 = _dt.executeAll(sql_22)\n",
    "pd.DataFrame(result_22)"
   ]
  },
  {
   "cell_type": "code",
   "execution_count": null,
   "metadata": {},
   "outputs": [],
   "source": [
    "sql_23 = \"\"\"\n",
    "            SELECT * FROM emp\n",
    "            WHERE \n",
    "            )\n",
    "        \"\"\"\n",
    "result_23 = _dt.executeAll(sql_23)\n",
    "pd.DataFrame(result_23)"
   ]
  },
  {
   "cell_type": "code",
   "execution_count": null,
   "metadata": {},
   "outputs": [],
   "source": [
    "sql_24 = \"\"\"\n",
    "            SELECT * FROM emp\n",
    "            WHERE SAL BETWEEN 2000 AND 5000\n",
    "        \"\"\"\n",
    "result_24 = _dt.executeAll(sql_24)\n",
    "pd.DataFrame(result_24)"
   ]
  },
  {
   "cell_type": "code",
   "execution_count": null,
   "metadata": {},
   "outputs": [],
   "source": [
    "sql_24 = \"\"\"\n",
    "            SELECT * FROM emp WHERE ENAME LIKE '%%ES'\n",
    "        \"\"\"\n",
    "result_24 = _dt.executeAll(sql_24)\n",
    "pd.DataFrame(result_24)"
   ]
  },
  {
   "cell_type": "code",
   "execution_count": null,
   "metadata": {},
   "outputs": [],
   "source": []
  },
  {
   "cell_type": "code",
   "execution_count": null,
   "metadata": {},
   "outputs": [],
   "source": []
  }
 ],
 "metadata": {
  "interpreter": {
   "hash": "1ea0a631e2cec5fd33116a35db7893fa7dcd17194c599dad2b48561a54fd02bb"
  },
  "kernelspec": {
   "display_name": "Python 3.9.7 ('base')",
   "language": "python",
   "name": "python3"
  },
  "language_info": {
   "codemirror_mode": {
    "name": "ipython",
    "version": 3
   },
   "file_extension": ".py",
   "mimetype": "text/x-python",
   "name": "python",
   "nbconvert_exporter": "python",
   "pygments_lexer": "ipython3",
   "version": "3.9.7"
  },
  "orig_nbformat": 4
 },
 "nbformat": 4,
 "nbformat_minor": 2
}
