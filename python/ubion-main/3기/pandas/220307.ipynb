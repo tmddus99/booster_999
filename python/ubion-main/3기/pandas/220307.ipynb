{
 "cells": [
  {
   "cell_type": "code",
   "execution_count": 8,
   "metadata": {},
   "outputs": [
    {
     "name": "stdout",
     "output_type": "stream",
     "text": [
      "Hello World\n"
     ]
    }
   ],
   "source": [
    "class Class_1():\n",
    "    def func_1(self):\n",
    "        print(\"Hello World\")\n",
    "\n",
    "a = Class_1()\n",
    "a.func_1()"
   ]
  },
  {
   "cell_type": "code",
   "execution_count": 10,
   "metadata": {},
   "outputs": [
    {
     "ename": "TypeError",
     "evalue": "func_2() takes 0 positional arguments but 1 was given",
     "output_type": "error",
     "traceback": [
      "\u001b[0;31m---------------------------------------------------------------------------\u001b[0m",
      "\u001b[0;31mTypeError\u001b[0m                                 Traceback (most recent call last)",
      "\u001b[0;32m/var/folders/6b/73dpm1vs05v8n2ng962nmn2h0000gn/T/ipykernel_14208/3739664267.py\u001b[0m in \u001b[0;36m<module>\u001b[0;34m\u001b[0m\n\u001b[1;32m      4\u001b[0m \u001b[0;34m\u001b[0m\u001b[0m\n\u001b[1;32m      5\u001b[0m \u001b[0mb\u001b[0m \u001b[0;34m=\u001b[0m \u001b[0mClass_2\u001b[0m\u001b[0;34m(\u001b[0m\u001b[0;34m)\u001b[0m\u001b[0;34m\u001b[0m\u001b[0;34m\u001b[0m\u001b[0m\n\u001b[0;32m----> 6\u001b[0;31m \u001b[0mb\u001b[0m\u001b[0;34m.\u001b[0m\u001b[0mfunc_2\u001b[0m\u001b[0;34m(\u001b[0m\u001b[0;34m)\u001b[0m\u001b[0;34m\u001b[0m\u001b[0;34m\u001b[0m\u001b[0m\n\u001b[0m",
      "\u001b[0;31mTypeError\u001b[0m: func_2() takes 0 positional arguments but 1 was given"
     ]
    }
   ],
   "source": [
    "class Class_2():\n",
    "    def func_2():\n",
    "        print(\"Hello World\")\n",
    "\n",
    "b = Class_2()\n",
    "b.func_2()"
   ]
  },
  {
   "cell_type": "code",
   "execution_count": 12,
   "metadata": {},
   "outputs": [
    {
     "name": "stdout",
     "output_type": "stream",
     "text": [
      "test test2\n"
     ]
    }
   ],
   "source": [
    "class Class_3():\n",
    "    def __init__(self, input_a, input_b):\n",
    "        self.a = input_a\n",
    "        self.b = input_b\n",
    "\n",
    "c = Class_3(\"test\", \"test2\")\n",
    "print(c.a, c.b)"
   ]
  },
  {
   "cell_type": "code",
   "execution_count": 14,
   "metadata": {},
   "outputs": [
    {
     "name": "stdout",
     "output_type": "stream",
     "text": [
      "test3 test4\n"
     ]
    }
   ],
   "source": [
    "d = Class_3(\"test3\", \"test4\")\n",
    "print(d.a, d.b)"
   ]
  },
  {
   "cell_type": "code",
   "execution_count": 16,
   "metadata": {},
   "outputs": [
    {
     "name": "stdout",
     "output_type": "stream",
     "text": [
      "140356952798448 140357033435248\n",
      "140357036993264 140357036154736\n"
     ]
    }
   ],
   "source": [
    "print(id(c.a), id(c.b))\n",
    "print(id(d.a), id(d.b))"
   ]
  },
  {
   "cell_type": "code",
   "execution_count": 18,
   "metadata": {},
   "outputs": [
    {
     "name": "stdout",
     "output_type": "stream",
     "text": [
      "test test test\n",
      "123 456 789\n"
     ]
    }
   ],
   "source": [
    "class Class_4():\n",
    "\n",
    "    name = \"test\"\n",
    "\n",
    "    def __init__(self, input_c):\n",
    "        self.c = input_c\n",
    "\n",
    "a = Class_4(\"123\")\n",
    "b = Class_4(\"456\")\n",
    "c = Class_4(\"789\")\n",
    "\n",
    "print(a.name, b.name, c.name)\n",
    "print(a.c, b.c, c.c)"
   ]
  },
  {
   "cell_type": "code",
   "execution_count": 34,
   "metadata": {},
   "outputs": [
    {
     "name": "stdout",
     "output_type": "stream",
     "text": [
      "['01012345678'] ['01087654321']\n"
     ]
    }
   ],
   "source": [
    "class Class_5():\n",
    "\n",
    "    def __init__(self, input_name):\n",
    "        self.name = input_name\n",
    "        self._list = []\n",
    "\n",
    "\n",
    "    def add_list(self, input_phone):\n",
    "        self._list.append(input_phone)\n",
    "\n",
    "d = Class_5(\"test\")\n",
    "e = Class_5(\"test2\")\n",
    "\n",
    "d.add_list(\"01012345678\")\n",
    "e.add_list(\"01087654321\")\n",
    "\n",
    "print(d._list, e._list)\n"
   ]
  },
  {
   "cell_type": "code",
   "execution_count": 35,
   "metadata": {},
   "outputs": [
    {
     "name": "stdout",
     "output_type": "stream",
     "text": [
      "['01012345678', '3283'] ['01087654321', '4253']\n"
     ]
    }
   ],
   "source": [
    "class Class_6():\n",
    "\n",
    "    _list = []\n",
    "\n",
    "    def __init__(self, input_name):\n",
    "        self.name = input_name\n",
    "\n",
    "\n",
    "    def add_list(self, input_phone_1, input_phone_2):\n",
    "        self._list = []\n",
    "        self._list.append(input_phone_1)\n",
    "        self._list.append(input_phone_2)\n",
    "\n",
    "d = Class_6(\"test\")\n",
    "e = Class_6(\"test2\")\n",
    "\n",
    "d.add_list(\"01012345678\", \"3283\")\n",
    "e.add_list(\"01087654321\", \"4253\")\n",
    "\n",
    "print(d._list, e._list)"
   ]
  },
  {
   "cell_type": "markdown",
   "metadata": {},
   "source": [
    "class는 변수와 함수를 동시에 지정할 수 있음에 따라\n",
    "훨씬 작업량이 늘어난다."
   ]
  },
  {
   "cell_type": "code",
   "execution_count": 37,
   "metadata": {},
   "outputs": [
    {
     "name": "stdout",
     "output_type": "stream",
     "text": [
      "3\n",
      "7\n"
     ]
    }
   ],
   "source": [
    "sum = 0\n",
    "\n",
    "def add(x):\n",
    "    global sum\n",
    "    sum += x\n",
    "    return sum\n",
    "\n",
    "print(add(3))\n",
    "print(add(4))\n"
   ]
  },
  {
   "cell_type": "code",
   "execution_count": 38,
   "metadata": {},
   "outputs": [
    {
     "name": "stdout",
     "output_type": "stream",
     "text": [
      "3 4\n",
      "13 5\n"
     ]
    }
   ],
   "source": [
    "sum_1 = 0\n",
    "sum_2 = 0\n",
    "\n",
    "def add_1(x):\n",
    "    global sum_1\n",
    "    sum_1 += x\n",
    "    return sum_1\n",
    "\n",
    "def add_2(x):\n",
    "    global sum_2\n",
    "    sum_2 += x\n",
    "    return sum_2\n",
    "\n",
    "print(add_1(3), add_2(4))\n",
    "print(add_1(10), add_2(1))"
   ]
  },
  {
   "cell_type": "code",
   "execution_count": 45,
   "metadata": {},
   "outputs": [
    {
     "name": "stdout",
     "output_type": "stream",
     "text": [
      "3 5\n",
      "7 11\n"
     ]
    }
   ],
   "source": [
    "class Add():\n",
    "    def __init__(self, input_name):\n",
    "        self.name = input_name\n",
    "        self.sum = 0\n",
    "\n",
    "    def add_sum(self, input_num):\n",
    "        self.sum += input_num\n",
    "        return self.sum\n",
    "\n",
    "a = Add(\"test\")\n",
    "b = Add(\"test2\")\n",
    "\n",
    "print(a.add_sum(3), b.add_sum(5))\n",
    "print(a.add_sum(4), b.add_sum(6))\n"
   ]
  },
  {
   "cell_type": "markdown",
   "metadata": {},
   "source": [
    "1. Class 생성 -> 초기에 인자 값 2개를 입력받아서 변수 2개 값들을 지정\n",
    "2. 첫번째 함수: 변수 두 개의 값을 변경을 하는 함수\n",
    "3. 이후 5개의 함수는 변수 두 개의 +, -, *, /, %의 함수 생성\n",
    "4. 6개의 함수를 다 실행해보기"
   ]
  },
  {
   "cell_type": "code",
   "execution_count": 72,
   "metadata": {},
   "outputs": [
    {
     "name": "stdout",
     "output_type": "stream",
     "text": [
      "10 2\n",
      "12 8 20 5.0 0\n"
     ]
    }
   ],
   "source": [
    "class Class_7():\n",
    "    def __init__(self, input_num_1, input_num_2):\n",
    "        self.num_1 = input_num_1\n",
    "        self.num_2 = input_num_2\n",
    "        self.result = 0\n",
    "        \n",
    "    def change(self, input_num_1, input_num_2):\n",
    "        self.num_1 = input_num_1\n",
    "        self.num_2 = input_num_2\n",
    "\n",
    "    def plus(self):\n",
    "        self.result = self.num_1 + self.num_2\n",
    "        return self.result\n",
    "\n",
    "    def minus(self):\n",
    "        self.result = self.num_1 - self.num_2\n",
    "        return self.result\n",
    "\n",
    "    def dot(self):\n",
    "        self.result = self.num_1 * self.num_2\n",
    "        return self.result\n",
    "\n",
    "    def divide(self):\n",
    "        if self.num_2 == 0:\n",
    "            print(\"나누는 수가 0일 때는 계산할 수 없습니다.\")\n",
    "        else:\n",
    "            self.result = self.num_1 / self.num_2\n",
    "            return self.result\n",
    "\n",
    "    def left(self):\n",
    "        self.result = self.num_1 % self.num_2\n",
    "        return self.result\n",
    "\n",
    "a = Class_7(100,10000)\n",
    "a.change(10,2)\n",
    "print(a.num_1, a.num_2)\n",
    "print(a.plus(), a.minus(), a.dot(), a.divide(), a.left())"
   ]
  },
  {
   "cell_type": "markdown",
   "metadata": {},
   "source": [
    "1. class 밑변의 길이, 높이를 인자 값으로 넣어주는 클래스를 생성\n",
    "2. 삼각형일 때 넓이, 사각형일 때 넓이 구하는 함수 생성\n",
    "3. 함수는 init을 제외한 단 1개의 함수로 구성이 되는 클래스를 생성"
   ]
  },
  {
   "cell_type": "markdown",
   "metadata": {},
   "source": []
  },
  {
   "cell_type": "code",
   "execution_count": 85,
   "metadata": {},
   "outputs": [
    {
     "name": "stdout",
     "output_type": "stream",
     "text": [
      "6.0 12 지정된 값이 아닙니다.\n"
     ]
    }
   ],
   "source": [
    "class Class_8():\n",
    "    def __init__(self, input_num_1, input_num_2):\n",
    "        self.width = input_num_1\n",
    "        self.height = input_num_2\n",
    "\n",
    "    def area(self, input_figure):\n",
    "        if input_figure == \"R\":\n",
    "            return self.width * self.height / 2\n",
    "        elif input_figure == \"S\":\n",
    "            return self.width * self.height\n",
    "        else: \n",
    "            return \"지정된 값이 아닙니다.\"\n",
    "\n",
    "a = Class_8(4,3)\n",
    "print(a.area(\"R\"),\n",
    "      a.area(\"S\"),\n",
    "      a.area(\"O\"))"
   ]
  },
  {
   "cell_type": "markdown",
   "metadata": {},
   "source": [
    "a=input(\"삼각형이면 R, 사각형이면 S를 입력하세요:\" )"
   ]
  },
  {
   "cell_type": "code",
   "execution_count": 93,
   "metadata": {},
   "outputs": [
    {
     "name": "stdout",
     "output_type": "stream",
     "text": [
      "[18.84, 28.26]\n"
     ]
    }
   ],
   "source": [
    "class Class_9():\n",
    "\n",
    "    _pi = 3.14\n",
    "\n",
    "    def round_area(self, r):\n",
    "        self.result = []\n",
    "        self.result.append(2* self._pi * r)\n",
    "        self.result.append(self._pi* (r**2))\n",
    "        return self.result\n",
    "\n",
    "a = Class_9()\n",
    "print(a.round_area(3))"
   ]
  },
  {
   "cell_type": "code",
   "execution_count": 102,
   "metadata": {},
   "outputs": [
    {
     "name": "stdout",
     "output_type": "stream",
     "text": [
      "[15.42, 14.13] [18.84, 28.26]\n"
     ]
    }
   ],
   "source": [
    "class Class_10(Class_9):\n",
    "    def __init__(self, input_r):\n",
    "        self.r = input_r\n",
    "\n",
    "    def half(self):\n",
    "        self.result = []\n",
    "        self.result.append(2*self.r + self.r*self._pi)\n",
    "        self.result.append(self._pi * (self.r**2) / 2)\n",
    "        return self.result\n",
    "\n",
    "    def round_area(self):\n",
    "        self.result = []\n",
    "        self.result.append(2* self._pi * self.r)\n",
    "        self.result.append(self._pi* (self.r**2))\n",
    "        return self.result\n",
    "    \n",
    "b = Class_10(3)\n",
    "print(b.half(), b.round_area())"
   ]
  },
  {
   "cell_type": "code",
   "execution_count": null,
   "metadata": {},
   "outputs": [],
   "source": [
    "import pandas as pd\n",
    "\n",
    "class Change_dt():\n",
    "    def __init__(self, input_url):\n",
    "        self.url = input_url\n",
    "\n",
    "    def csv_read(self, input_sort = 'Country', input_inplace = True):\n",
    "        self.dt = pd.read_csv(self.url)\n",
    "        self.dt.sort_value(input_sort, inplace=input_inplace)\n",
    "        self.dt.reset_index(drop=True, inplace=input_inplace)\n",
    "        return self.dt\n",
    "\n",
    "    def remove_column(self, input_list = []):\n",
    "        self.dt.drop(input_list, axis=1, inplace=True)\n",
    "        return self.dt\n",
    "\n",
    "    def remove_2(self, input_s_column, input_e_column):\n",
    "        self.dt.drop(self.dt.loc[:,input_s_column:input_e_column], )\n",
    "        return self.dt"
   ]
  },
  {
   "cell_type": "code",
   "execution_count": null,
   "metadata": {},
   "outputs": [],
   "source": [
    "import mod4\n",
    "\n",
    "dt = mod4.Change_dt_2(\"./csv/Sales Records.csv\")\n"
   ]
  },
  {
   "cell_type": "code",
   "execution_count": null,
   "metadata": {},
   "outputs": [],
   "source": []
  },
  {
   "cell_type": "code",
   "execution_count": null,
   "metadata": {},
   "outputs": [],
   "source": []
  },
  {
   "cell_type": "code",
   "execution_count": null,
   "metadata": {},
   "outputs": [],
   "source": []
  },
  {
   "cell_type": "code",
   "execution_count": null,
   "metadata": {},
   "outputs": [],
   "source": []
  }
 ],
 "metadata": {
  "interpreter": {
   "hash": "1ea0a631e2cec5fd33116a35db7893fa7dcd17194c599dad2b48561a54fd02bb"
  },
  "kernelspec": {
   "display_name": "Python 3.9.7 ('base')",
   "language": "python",
   "name": "python3"
  },
  "language_info": {
   "codemirror_mode": {
    "name": "ipython",
    "version": 3
   },
   "file_extension": ".py",
   "mimetype": "text/x-python",
   "name": "python",
   "nbconvert_exporter": "python",
   "pygments_lexer": "ipython3",
   "version": "3.9.7"
  },
  "orig_nbformat": 4
 },
 "nbformat": 4,
 "nbformat_minor": 2
}
