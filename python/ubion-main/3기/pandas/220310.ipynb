{
 "cells": [
  {
   "cell_type": "code",
   "execution_count": 2,
   "metadata": {},
   "outputs": [],
   "source": [
    "import pymysql\n",
    "import pandas as pd "
   ]
  },
  {
   "cell_type": "markdown",
   "metadata": {},
   "source": [
    "% mysql -u root -p"
   ]
  },
  {
   "cell_type": "code",
   "execution_count": 3,
   "metadata": {},
   "outputs": [],
   "source": [
    "_db = pymysql.connect(\n",
    "    user = 'root',\n",
    "    passwd = 'kto0812130?',\n",
    "    host = \"localhost\",\n",
    "    db = \"ubion\"   \n",
    ")"
   ]
  },
  {
   "cell_type": "code",
   "execution_count": 4,
   "metadata": {},
   "outputs": [],
   "source": [
    "cursor = _db.cursor(pymysql.cursors.DictCursor)"
   ]
  },
  {
   "cell_type": "code",
   "execution_count": 5,
   "metadata": {},
   "outputs": [
    {
     "name": "stdout",
     "output_type": "stream",
     "text": [
      "[{'ID': '1', 'password': '1', 'name': '1', 'phone': '1', 'ads': '1', 'gender': 1, 'age': 1, 'regit_date': '1'}, {'ID': '3241', 'password': '192', 'name': '도우너', 'phone': '010382377484', 'ads': '깐따삐아', 'gender': 1, 'age': 10, 'regit_date': '20200310'}, {'ID': 'test', 'password': '1234', 'name': '고길동', 'phone': '01012345678', 'ads': '서울시 강북구 쌍문동', 'gender': 1, 'age': 45, 'regit_date': '20220310'}, {'ID': 'test3', 'password': '8543', 'name': '마이콜', 'phone': '01048426489', 'ads': '고길동 옆집', 'gender': 1, 'age': 28, 'regit_date': '20220310'}, {'ID': 'test4', 'password': '4521', 'name': '또치', 'phone': '01051247856', 'ads': '동물원', 'gender': 2, 'age': 4, 'regit_date': '20200310'}, {'ID': 'test5', 'password': '5555', 'name': '도우너', 'phone': '01032523532', 'ads': '깐따삐아', 'gender': 1, 'age': 10, 'regit_date': '20220310'}, {'ID': 'ㅅㄷㄴㅅ5', 'password': '5555', 'name': '도우너', 'phone': '01055544443', 'ads': '깐따삐아', 'gender': 1, 'age': 10, 'regit_date': '20220310'}]\n"
     ]
    }
   ],
   "source": [
    "sql = \"SELECT * FROM user_info\"\n",
    "\n",
    "cursor.execute(sql)\n",
    "result = cursor.fetchall()\n",
    "print(result)\n"
   ]
  },
  {
   "cell_type": "markdown",
   "metadata": {},
   "source": [
    "result를 데이터프레임으로 만들어봅시다!\n",
    "변수명 dt로 "
   ]
  },
  {
   "cell_type": "code",
   "execution_count": 6,
   "metadata": {},
   "outputs": [
    {
     "data": {
      "text/html": [
       "<div>\n",
       "<style scoped>\n",
       "    .dataframe tbody tr th:only-of-type {\n",
       "        vertical-align: middle;\n",
       "    }\n",
       "\n",
       "    .dataframe tbody tr th {\n",
       "        vertical-align: top;\n",
       "    }\n",
       "\n",
       "    .dataframe thead th {\n",
       "        text-align: right;\n",
       "    }\n",
       "</style>\n",
       "<table border=\"1\" class=\"dataframe\">\n",
       "  <thead>\n",
       "    <tr style=\"text-align: right;\">\n",
       "      <th></th>\n",
       "      <th>ID</th>\n",
       "      <th>password</th>\n",
       "      <th>name</th>\n",
       "      <th>phone</th>\n",
       "      <th>ads</th>\n",
       "      <th>gender</th>\n",
       "      <th>age</th>\n",
       "      <th>regit_date</th>\n",
       "    </tr>\n",
       "  </thead>\n",
       "  <tbody>\n",
       "    <tr>\n",
       "      <th>0</th>\n",
       "      <td>1</td>\n",
       "      <td>1</td>\n",
       "      <td>1</td>\n",
       "      <td>1</td>\n",
       "      <td>1</td>\n",
       "      <td>1</td>\n",
       "      <td>1</td>\n",
       "      <td>1</td>\n",
       "    </tr>\n",
       "    <tr>\n",
       "      <th>1</th>\n",
       "      <td>3241</td>\n",
       "      <td>192</td>\n",
       "      <td>도우너</td>\n",
       "      <td>010382377484</td>\n",
       "      <td>깐따삐아</td>\n",
       "      <td>1</td>\n",
       "      <td>10</td>\n",
       "      <td>20200310</td>\n",
       "    </tr>\n",
       "    <tr>\n",
       "      <th>2</th>\n",
       "      <td>test</td>\n",
       "      <td>1234</td>\n",
       "      <td>고길동</td>\n",
       "      <td>01012345678</td>\n",
       "      <td>서울시 강북구 쌍문동</td>\n",
       "      <td>1</td>\n",
       "      <td>45</td>\n",
       "      <td>20220310</td>\n",
       "    </tr>\n",
       "    <tr>\n",
       "      <th>3</th>\n",
       "      <td>test3</td>\n",
       "      <td>8543</td>\n",
       "      <td>마이콜</td>\n",
       "      <td>01048426489</td>\n",
       "      <td>고길동 옆집</td>\n",
       "      <td>1</td>\n",
       "      <td>28</td>\n",
       "      <td>20220310</td>\n",
       "    </tr>\n",
       "    <tr>\n",
       "      <th>4</th>\n",
       "      <td>test4</td>\n",
       "      <td>4521</td>\n",
       "      <td>또치</td>\n",
       "      <td>01051247856</td>\n",
       "      <td>동물원</td>\n",
       "      <td>2</td>\n",
       "      <td>4</td>\n",
       "      <td>20200310</td>\n",
       "    </tr>\n",
       "    <tr>\n",
       "      <th>5</th>\n",
       "      <td>test5</td>\n",
       "      <td>5555</td>\n",
       "      <td>도우너</td>\n",
       "      <td>01032523532</td>\n",
       "      <td>깐따삐아</td>\n",
       "      <td>1</td>\n",
       "      <td>10</td>\n",
       "      <td>20220310</td>\n",
       "    </tr>\n",
       "    <tr>\n",
       "      <th>6</th>\n",
       "      <td>ㅅㄷㄴㅅ5</td>\n",
       "      <td>5555</td>\n",
       "      <td>도우너</td>\n",
       "      <td>01055544443</td>\n",
       "      <td>깐따삐아</td>\n",
       "      <td>1</td>\n",
       "      <td>10</td>\n",
       "      <td>20220310</td>\n",
       "    </tr>\n",
       "  </tbody>\n",
       "</table>\n",
       "</div>"
      ],
      "text/plain": [
       "      ID password name         phone          ads  gender  age regit_date\n",
       "0      1        1    1             1            1       1    1          1\n",
       "1   3241      192  도우너  010382377484         깐따삐아       1   10   20200310\n",
       "2   test     1234  고길동   01012345678  서울시 강북구 쌍문동       1   45   20220310\n",
       "3  test3     8543  마이콜   01048426489       고길동 옆집       1   28   20220310\n",
       "4  test4     4521   또치   01051247856          동물원       2    4   20200310\n",
       "5  test5     5555  도우너   01032523532         깐따삐아       1   10   20220310\n",
       "6  ㅅㄷㄴㅅ5     5555  도우너   01055544443         깐따삐아       1   10   20220310"
      ]
     },
     "execution_count": 6,
     "metadata": {},
     "output_type": "execute_result"
    }
   ],
   "source": [
    "dt = pd.DataFrame(result)\n",
    "dt"
   ]
  },
  {
   "cell_type": "code",
   "execution_count": 11,
   "metadata": {},
   "outputs": [],
   "source": [
    "sql = \"replace into user_info values (%s, %s, %s, %s, %s, %s, %s, %s)\"\n",
    "values = [\"test4\", \"4521\", \"또치\", \"01051247856\", \"동물원\", 2, 4, \"20200310\"]\n",
    "\n",
    "cursor.execute(sql, values)\n",
    "_db.commit()\n"
   ]
  },
  {
   "cell_type": "code",
   "execution_count": 12,
   "metadata": {},
   "outputs": [
    {
     "name": "stdout",
     "output_type": "stream",
     "text": [
      "['test8', '또치치치', '앙앙', '01039281928', '동물원', 1, 30, '20220311'] <class 'list'>\n"
     ]
    }
   ],
   "source": [
    "sql = \"insert into user_info values (%s, %s, %s, %s, %s, %s, %s, %s)\"\n",
    "\n",
    "X = input(\"ID값: \")\n",
    "pw = input(\"password: \")\n",
    "name = input(\"name: \")\n",
    "phone = input(\"phone: \")\n",
    "ads = input(\"address: \")\n",
    "gender = int(input(\"gender: \"))\n",
    "age = int(input(\"age: \"))\n",
    "regit_date = input(\"regit_date: \")\n",
    "\n",
    "input_list = [X, pw, name, phone, ads, gender, age, regit_date]\n",
    "print(input_list,\n",
    "type(input_list))\n",
    "\n",
    "cursor.execute(sql, input_list)\n",
    "_db.commit()"
   ]
  },
  {
   "cell_type": "code",
   "execution_count": 13,
   "metadata": {},
   "outputs": [
    {
     "ename": "ValueError",
     "evalue": "invalid literal for int() with base 10: '4.3'",
     "output_type": "error",
     "traceback": [
      "\u001b[0;31m---------------------------------------------------------------------------\u001b[0m",
      "\u001b[0;31mValueError\u001b[0m                                Traceback (most recent call last)",
      "\u001b[0;32m/var/folders/6b/73dpm1vs05v8n2ng962nmn2h0000gn/T/ipykernel_90064/1959373158.py\u001b[0m in \u001b[0;36m<module>\u001b[0;34m\u001b[0m\n\u001b[0;32m----> 1\u001b[0;31m \u001b[0mx\u001b[0m \u001b[0;34m=\u001b[0m \u001b[0mint\u001b[0m\u001b[0;34m(\u001b[0m\u001b[0minput\u001b[0m\u001b[0;34m(\u001b[0m\u001b[0;34m\"x: \"\u001b[0m\u001b[0;34m)\u001b[0m\u001b[0;34m)\u001b[0m\u001b[0;34m\u001b[0m\u001b[0;34m\u001b[0m\u001b[0m\n\u001b[0m\u001b[1;32m      2\u001b[0m \u001b[0;34m\u001b[0m\u001b[0m\n\u001b[1;32m      3\u001b[0m \u001b[0mtype\u001b[0m\u001b[0;34m(\u001b[0m\u001b[0mx\u001b[0m\u001b[0;34m)\u001b[0m\u001b[0;34m\u001b[0m\u001b[0;34m\u001b[0m\u001b[0m\n",
      "\u001b[0;31mValueError\u001b[0m: invalid literal for int() with base 10: '4.3'"
     ]
    }
   ],
   "source": [
    "x = int(input(\"x: \"))\n",
    "\n",
    "type(x)"
   ]
  },
  {
   "cell_type": "markdown",
   "metadata": {},
   "source": [
    "pip install cryptography"
   ]
  },
  {
   "cell_type": "code",
   "execution_count": 14,
   "metadata": {},
   "outputs": [],
   "source": [
    "update_sql = \"\"\"\n",
    "                UPDATE user_info \n",
    "                SET phone = \"01012345678\"\n",
    "                WHERE name = \"도우너\"\n",
    "\n",
    "\"\"\"\n",
    "cursor.execute(update_sql)\n",
    "_db.commit()"
   ]
  },
  {
   "cell_type": "code",
   "execution_count": 15,
   "metadata": {},
   "outputs": [],
   "source": [
    "delete_sql = \"\"\"\n",
    "            DELETE FROM user_info\n",
    "            WHERE ID=\"1\"\n",
    "            \"\"\"\n",
    "cursor.execute(delete_sql)\n",
    "_db.commit()"
   ]
  },
  {
   "cell_type": "code",
   "execution_count": null,
   "metadata": {},
   "outputs": [],
   "source": []
  },
  {
   "cell_type": "code",
   "execution_count": null,
   "metadata": {},
   "outputs": [],
   "source": []
  },
  {
   "cell_type": "code",
   "execution_count": null,
   "metadata": {},
   "outputs": [],
   "source": []
  },
  {
   "cell_type": "code",
   "execution_count": null,
   "metadata": {},
   "outputs": [],
   "source": []
  },
  {
   "cell_type": "code",
   "execution_count": null,
   "metadata": {},
   "outputs": [],
   "source": []
  },
  {
   "cell_type": "code",
   "execution_count": null,
   "metadata": {},
   "outputs": [],
   "source": []
  }
 ],
 "metadata": {
  "interpreter": {
   "hash": "1ea0a631e2cec5fd33116a35db7893fa7dcd17194c599dad2b48561a54fd02bb"
  },
  "kernelspec": {
   "display_name": "Python 3.9.7 ('base')",
   "language": "python",
   "name": "python3"
  },
  "language_info": {
   "codemirror_mode": {
    "name": "ipython",
    "version": 3
   },
   "file_extension": ".py",
   "mimetype": "text/x-python",
   "name": "python",
   "nbconvert_exporter": "python",
   "pygments_lexer": "ipython3",
   "version": "3.9.7"
  },
  "orig_nbformat": 4
 },
 "nbformat": 4,
 "nbformat_minor": 2
}
