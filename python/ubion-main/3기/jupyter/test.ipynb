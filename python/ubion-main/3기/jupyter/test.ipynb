{
 "cells": [
  {
   "cell_type": "code",
   "execution_count": 1,
   "metadata": {},
   "outputs": [
    {
     "ename": "IndexError",
     "evalue": "list index out of range",
     "output_type": "error",
     "traceback": [
      "\u001b[1;31m---------------------------------------------------------------------------\u001b[0m",
      "\u001b[1;31mIndexError\u001b[0m                                Traceback (most recent call last)",
      "\u001b[1;32mg:\\ubion\\금융 빅데이터3기\\실습\\test.ipynb Cell 1'\u001b[0m in \u001b[0;36m<module>\u001b[1;34m\u001b[0m\n\u001b[0;32m      <a href='vscode-notebook-cell:/g%3A/ubion/%EA%B8%88%EC%9C%B5%20%EB%B9%85%EB%8D%B0%EC%9D%B4%ED%84%B03%EA%B8%B0/%EC%8B%A4%EC%8A%B5/test.ipynb#ch0000000?line=4'>5</a>\u001b[0m c \u001b[39m=\u001b[39m {}\n\u001b[0;32m      <a href='vscode-notebook-cell:/g%3A/ubion/%EA%B8%88%EC%9C%B5%20%EB%B9%85%EB%8D%B0%EC%9D%B4%ED%84%B03%EA%B8%B0/%EC%8B%A4%EC%8A%B5/test.ipynb#ch0000000?line=6'>7</a>\u001b[0m \u001b[39mfor\u001b[39;00m i \u001b[39min\u001b[39;00m \u001b[39mrange\u001b[39m(\u001b[39m0\u001b[39m, \u001b[39mlen\u001b[39m(a)):\n\u001b[1;32m----> <a href='vscode-notebook-cell:/g%3A/ubion/%EA%B8%88%EC%9C%B5%20%EB%B9%85%EB%8D%B0%EC%9D%B4%ED%84%B03%EA%B8%B0/%EC%8B%A4%EC%8A%B5/test.ipynb#ch0000000?line=7'>8</a>\u001b[0m     \u001b[39mif\u001b[39;00m a[i] \u001b[39mand\u001b[39;00m b[i]:\n\u001b[0;32m      <a href='vscode-notebook-cell:/g%3A/ubion/%EA%B8%88%EC%9C%B5%20%EB%B9%85%EB%8D%B0%EC%9D%B4%ED%84%B03%EA%B8%B0/%EC%8B%A4%EC%8A%B5/test.ipynb#ch0000000?line=8'>9</a>\u001b[0m         c[a[i]] \u001b[39m=\u001b[39m b[i]\n\u001b[0;32m     <a href='vscode-notebook-cell:/g%3A/ubion/%EA%B8%88%EC%9C%B5%20%EB%B9%85%EB%8D%B0%EC%9D%B4%ED%84%B03%EA%B8%B0/%EC%8B%A4%EC%8A%B5/test.ipynb#ch0000000?line=9'>10</a>\u001b[0m     \u001b[39melse\u001b[39;00m:\n",
      "\u001b[1;31mIndexError\u001b[0m: list index out of range"
     ]
    }
   ],
   "source": [
    "a = [\"a\", \"b\", \"c\", \"d\", \"e\"]\n",
    "\n",
    "b = [1,2,3,4]\n",
    "\n",
    "c = {}\n",
    "\n",
    "for i in range(0, len(a)):\n",
    "    for j in range(0, len(b)):\n",
    "        if a[i] and b[i]:\n",
    "            c[a[i]] = b[i]\n",
    "        else:\n",
    "            c[a[i]] = 0\n",
    "print(c)"
   ]
  },
  {
   "cell_type": "code",
   "execution_count": null,
   "metadata": {},
   "outputs": [],
   "source": []
  }
 ],
 "metadata": {
  "interpreter": {
   "hash": "c22e33c9a27a2bb1a040a4ca92603677d3f3eab3ec561d889cf82069a29b9323"
  },
  "kernelspec": {
   "display_name": "Python 3 (ipykernel)",
   "language": "python",
   "name": "python3"
  },
  "language_info": {
   "codemirror_mode": {
    "name": "ipython",
    "version": 3
   },
   "file_extension": ".py",
   "mimetype": "text/x-python",
   "name": "python",
   "nbconvert_exporter": "python",
   "pygments_lexer": "ipython3",
   "version": "3.10.2"
  }
 },
 "nbformat": 4,
 "nbformat_minor": 2
}
